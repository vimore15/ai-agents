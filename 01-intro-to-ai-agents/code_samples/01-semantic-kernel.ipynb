{
 "cells": [
  {
   "cell_type": "markdown",
   "metadata": {},
   "source": [
    "# Semantic Kernel \n",
    "\n",
    "In this code sample, you will use the [Semantic Kernel](https://aka.ms/ai-agents-beginners/semantic-kernel) AI Framework to create a basic agent. \n",
    "\n",
    "The goal of this sample is to show you the steps that we will later use in the additional code samples when implementing the different agentic patterns. "
   ]
  },
  {
   "cell_type": "markdown",
   "metadata": {},
   "source": [
    "## Import the Needed Python Packages "
   ]
  },
  {
   "cell_type": "code",
   "execution_count": 1,
   "metadata": {},
   "outputs": [],
   "source": [
    "import os \n",
    "from typing import Annotated\n",
    "from openai import AsyncOpenAI\n",
    "\n",
    "from dotenv import load_dotenv\n",
    "\n",
    "from semantic_kernel.agents import ChatCompletionAgent, ChatHistoryAgentThread\n",
    "from semantic_kernel.connectors.ai.open_ai import OpenAIChatCompletion\n",
    "from semantic_kernel.functions import kernel_function"
   ]
  },
  {
   "cell_type": "markdown",
   "metadata": {},
   "source": [
    "## Creating the Client\n",
    "\n",
    "In this sample, we will use [GitHub Models](https://aka.ms/ai-agents-beginners/github-models) for access to the LLM. \n",
    "\n",
    "The `ai_model_id` is defined as `gpt-4o-mini`. Try changing the model to another model available on the GitHub Models marketplace to see the different results. \n",
    "\n",
    "For us to use the `Azure Inference SDK` that is used for the `base_url` for GitHub Models, we will use the `OpenAIChatCompletion` connector within Semantic Kernel. There are also other [available connectors](https://learn.microsoft.com/semantic-kernel/concepts/ai-services/chat-completion) to use Semantic Kernel for other model providers."
   ]
  },
  {
   "cell_type": "code",
   "execution_count": 2,
   "metadata": {},
   "outputs": [],
   "source": [
    "import random   \n",
    "\n",
    "# Define a sample plugin for the sample\n",
    "\n",
    "class DestinationsPlugin:\n",
    "    \"\"\"A List of Random Destinations for a vacation.\"\"\"\n",
    "\n",
    "    def __init__(self):\n",
    "        # List of vacation destinations\n",
    "        self.destinations = [\n",
    "            \"Barcelona, Spain\",\n",
    "            \"Paris, France\",\n",
    "            \"Berlin, Germany\",\n",
    "            \"Tokyo, Japan\",\n",
    "            \"Sydney, Australia\",\n",
    "            \"New York, USA\",\n",
    "            \"Cairo, Egypt\",\n",
    "            \"Cape Town, South Africa\",\n",
    "            \"Rio de Janeiro, Brazil\",\n",
    "            \"Bali, Indonesia\"\n",
    "        ]\n",
    "        # Track last destination to avoid repeats\n",
    "        self.last_destination = None\n",
    "\n",
    "    @kernel_function(description=\"Provides a random vacation destination.\")\n",
    "    def get_random_destination(self) -> Annotated[str, \"Returns a random vacation destination.\"]:\n",
    "        # Get available destinations (excluding last one if possible)\n",
    "        available_destinations = self.destinations.copy()\n",
    "        if self.last_destination and len(available_destinations) > 1:\n",
    "            available_destinations.remove(self.last_destination)\n",
    "\n",
    "        # Select a random destination\n",
    "        destination = random.choice(available_destinations)\n",
    "\n",
    "        # Update the last destination\n",
    "        self.last_destination = destination\n",
    "\n",
    "        return destination"
   ]
  },
  {
   "cell_type": "code",
   "execution_count": 3,
   "metadata": {},
   "outputs": [],
   "source": [
    "load_dotenv()\n",
    "client = AsyncOpenAI(\n",
    "    api_key=os.environ.get(\"GITHUB_TOKEN\"), \n",
    "    base_url=\"https://models.inference.ai.azure.com/\",\n",
    ")\n",
    "\n",
    "# Create an AI Service that will be used by the `ChatCompletionAgent`\n",
    "chat_completion_service = OpenAIChatCompletion(\n",
    "    ai_model_id=\"gpt-4o-mini\",\n",
    "    async_client=client,\n",
    ")"
   ]
  },
  {
   "cell_type": "markdown",
   "metadata": {},
   "source": [
    "## Creating the Agent \n",
    "\n",
    "Below we create the Agent called `TravelAgent`.\n",
    "\n",
    "For this example, we are using very simple instructions. You can change these instructions to see how the agent responds differently. "
   ]
  },
  {
   "cell_type": "code",
   "execution_count": 4,
   "metadata": {},
   "outputs": [],
   "source": [
    "agent = ChatCompletionAgent(\n",
    "    service=chat_completion_service, \n",
    "    plugins=[DestinationsPlugin()],\n",
    "    name=\"TravelAgent\",\n",
    "    instructions=\"You are a helpful AI Agent that can help plan vacations for customers at random destinations\",\n",
    ")"
   ]
  },
  {
   "cell_type": "markdown",
   "metadata": {},
   "source": [
    "## Running the Agent\n",
    "\n",
    "Now we can run the Agent by defining a thread of type `ChatHistoryAgentThread`.  Any required system messages are provided to the agent's invoke_stream `messages` keyword argument.\n",
    "\n",
    "After these are defined, we create a `user_inputs` that will be what the user is sending to the agent. In this case, we have set this message to `Plan me a sunny vacation`. \n",
    "\n",
    "Feel free to change this message to see how the agent responds differently. "
   ]
  },
  {
   "cell_type": "code",
   "execution_count": 17,
   "metadata": {},
   "outputs": [
    {
     "name": "stdout",
     "output_type": "stream",
     "text": [
      "# User: Plan me a day trip.\n",
      "\n",
      "# TravelAgent: I have a great destination for your day trip: Bali, Indonesia!\n",
      "\n",
      "### Day Trip Itinerary in Bali\n",
      "\n",
      "**Morning:**\n",
      "1. **Breakfast at Local Cafe**: Start your day with a traditional Indonesian breakfast at a local café. Try Nasi Goreng (fried rice) or Bubur Ayam (chicken porridge).\n",
      "   \n",
      "2. **Visit Ubud Monkey Forest**: Explore the lush Ubud Monkey Forest, home to hundreds of playful monkeys and beautiful temples.\n",
      "\n",
      "**Midday:**\n",
      "3. **Lunch in Ubud**: Enjoy a healthy lunch at one of Ubud's famous organic cafes. Try the smoothie bowls or local Balinese cuisine.\n",
      "   \n",
      "4. **Tegallalang Rice Terraces**: Visit the stunning Tegallalang Rice Terraces for breathtaking views and photo opportunities.\n",
      "\n",
      "**Afternoon:**\n",
      "5. **Coffee Plantation Tour**: Stop by a local coffee plantation to learn about the coffee-making process and sample some Luwak coffee.\n",
      "   \n",
      "6. **Cultural Experience**: Visit a traditional Balinese village to experience local crafts and culture.\n",
      "\n",
      "**Evening:**\n",
      "7. **Beach Time**: Head to one of Bali's beautiful beaches, such as Seminyak Beach, for some relaxation and maybe a swim.\n",
      "   \n",
      "8. **Dinner on the Beach**: Enjoy a seafood dinner at a beachfront restaurant while watching the sunset.\n",
      "\n",
      "**Night:**\n",
      "9. **Night Market**: If you're up for it, explore a local night market for souvenirs and a taste of authentic street food.\n",
      "\n",
      "### Tips:\n",
      "- Dress in lightweight clothing and wear sunscreen, as Bali can be quite warm.\n",
      "- Bring a hat and stay hydrated throughout your trip.\n",
      "- Respect local customs and the environment, especially while visiting sacred sites.\n",
      "\n",
      "Enjoy your day trip in Bali! If you need any more information or adjustments, let me know.\n",
      "# User: I don't like that destination. Plan me another vacation.\n",
      "\n",
      "# TravelAgent: Your new vacation destination is Berlin, Germany!\n",
      "\n",
      "### Day Trip Itinerary in Berlin\n",
      "\n",
      "**Morning:**\n",
      "1. **Breakfast at a Local Bakery**: Start your day with a delicious German pastry and coffee at a charming local bakery. Try a Berliner or a Pretzel!\n",
      "\n",
      "2. **Visit the Brandenburg Gate**: Head to this iconic landmark and take some photos. It's a symbol of Berlin's history.\n",
      "\n",
      "**Midday:**\n",
      "3. **Explore the Berlin Wall Memorial**: Learn about the history of the Berlin Wall and see the preserved sections that remind us of the city's past.\n",
      "\n",
      "4. **Lunch at a Traditional German Restaurant**: Enjoy classic dishes such as Currywurst or Sauerkraut.\n",
      "\n",
      "**Afternoon:**\n",
      "5. **Museums Island**: Spend your afternoon exploring the museums located on Museum Island, a UNESCO World Heritage site. The Pergamon Museum is a must-see!\n",
      "\n",
      "6. **Walk through the Tiergarten**: Stroll in the beautiful Tiergarten park, perfect for unwinding and enjoying the outdoors.\n",
      "\n",
      "**Evening:**\n",
      "7. **Visit the East Side Gallery**: Check out the colorful murals on the East Side Gallery, which are painted on a remaining section of the Berlin Wall.\n",
      "\n",
      "8. **Dinner in Kreuzberg**: Head to the trendy Kreuzberg district for dinner. Try traditional German food or enjoy international cuisines from one of the many eateries.\n",
      "\n",
      "**Night:**\n",
      "9. **Explore Berlin's Nightlife**: If you're up for it, visit a local bar or club to experience Berlin's vibrant nightlife. The city is known for its music and eclectic atmosphere.\n",
      "\n",
      "### Tips:\n",
      "- Use public transport like the U-Bahn or S-Bahn to get around efficiently.\n",
      "- Consider getting a Berlin Welcome Card for discounts on attractions and public transport.\n",
      "- Wear comfortable shoes, as there will be a lot of walking!\n",
      "\n",
      "Let me know if you'd like to adjust anything or need more information about Berlin! Enjoy your trip!\n"
     ]
    }
   ],
   "source": [
    "async def main():\n",
    "    # Create a new thread for the agent\n",
    "    # If no thread is provided, a new thread will be\n",
    "    # created and returned with the initial response\n",
    "    thread: ChatHistoryAgentThread | None = None\n",
    "\n",
    "    user_inputs = [\n",
    "        \"Plan me a day trip.\",\n",
    "        \"I don't like that destination. Plan me another vacation.\",\n",
    "    ]\n",
    "\n",
    "    for user_input in user_inputs:\n",
    "        print(f\"# User: {user_input}\\n\")\n",
    "        first_chunk = True\n",
    "        async for response in agent.invoke_stream(\n",
    "            messages=user_input, thread=thread,\n",
    "        ):\n",
    "            # 5. Print the response\n",
    "            if first_chunk:\n",
    "                print(f\"# {response.name}: \", end=\"\", flush=True)\n",
    "                first_chunk = False\n",
    "            print(f\"{response}\", end=\"\", flush=True)\n",
    "            thread = response.thread\n",
    "        print()\n",
    "\n",
    "    # Clean up the thread\n",
    "    await thread.delete() if thread else None\n",
    "\n",
    "await main()"
   ]
  }
 ],
 "metadata": {
  "kernelspec": {
   "display_name": "Python 3",
   "language": "python",
   "name": "python3"
  },
  "language_info": {
   "codemirror_mode": {
    "name": "ipython",
    "version": 3
   },
   "file_extension": ".py",
   "mimetype": "text/x-python",
   "name": "python",
   "nbconvert_exporter": "python",
   "pygments_lexer": "ipython3",
   "version": "3.12.10"
  }
 },
 "nbformat": 4,
 "nbformat_minor": 2
}
